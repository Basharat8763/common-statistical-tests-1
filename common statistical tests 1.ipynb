{
 "cells": [
  {
   "cell_type": "markdown",
   "id": "f1b7d7f4",
   "metadata": {},
   "source": [
    "# Common Statistical Tests 1\n",
    "### (Case Study)"
   ]
  },
  {
   "cell_type": "markdown",
   "id": "f3ca453f",
   "metadata": {},
   "source": [
    "### Problem Statement\n",
    "Business Context\n",
    "AZ Tunes is a music streaming company and they analyze customer data to improve\n",
    "recommendations, playlists, and rollout special offers. Their persistent work to uncover and act\n",
    "upon evolving customer expectation has resulted in higher customer engagement time and\n",
    "subscription to their paid service. "
   ]
  },
  {
   "cell_type": "markdown",
   "id": "f6dafb73",
   "metadata": {},
   "source": [
    "### Objective\n",
    "The Marketing team of AZ Tunes wants to rollout special offers through a new campaign. As a data\n",
    "scientist, your objective is to help the team design the campaign by providing the below data-driven\n",
    "inputs:\n",
    "* According to a study, the average weekly app engagement time of users in leading music\n",
    "services is around 6 hrs. Can we claim that the app engagement time of AZ tunes is better\n",
    "than this market standard?\n",
    "* The team wants to spend their budget on the age group which has the highest chance of\n",
    "subscribing as part of their campaign\n",
    "\n",
    "+ You need to perform statistical analysis on a sample of customer data and provide an evidencebased conclusion to help the marketing campaign succeed. "
   ]
  },
  {
   "cell_type": "markdown",
   "id": "53b3d9b8",
   "metadata": {},
   "source": [
    "# Import libraries"
   ]
  },
  {
   "cell_type": "code",
   "execution_count": 2,
   "id": "07f88939",
   "metadata": {},
   "outputs": [],
   "source": [
    "import numpy as np\n",
    "import pandas as pd \n",
    "import seaborn as sns\n",
    "import matplotlib.pyplot as plt\n",
    "%matplotlib inline \n",
    "import scipy.stats as stats \n",
    "import scipy \n"
   ]
  },
  {
   "cell_type": "code",
   "execution_count": 5,
   "id": "76fb8366",
   "metadata": {},
   "outputs": [],
   "source": [
    "df = pd.read_csv('az_tunes.csv')"
   ]
  },
  {
   "cell_type": "code",
   "execution_count": 6,
   "id": "45e92f4d",
   "metadata": {},
   "outputs": [
    {
     "data": {
      "text/html": [
       "<div>\n",
       "<style scoped>\n",
       "    .dataframe tbody tr th:only-of-type {\n",
       "        vertical-align: middle;\n",
       "    }\n",
       "\n",
       "    .dataframe tbody tr th {\n",
       "        vertical-align: top;\n",
       "    }\n",
       "\n",
       "    .dataframe thead th {\n",
       "        text-align: right;\n",
       "    }\n",
       "</style>\n",
       "<table border=\"1\" class=\"dataframe\">\n",
       "  <thead>\n",
       "    <tr style=\"text-align: right;\">\n",
       "      <th></th>\n",
       "      <th>user_id</th>\n",
       "      <th>age_group</th>\n",
       "      <th>subscription_status</th>\n",
       "      <th>engagement_time</th>\n",
       "    </tr>\n",
       "  </thead>\n",
       "  <tbody>\n",
       "    <tr>\n",
       "      <th>0</th>\n",
       "      <td>14451</td>\n",
       "      <td>18-34</td>\n",
       "      <td>subscribed</td>\n",
       "      <td>5.55</td>\n",
       "    </tr>\n",
       "    <tr>\n",
       "      <th>1</th>\n",
       "      <td>18386</td>\n",
       "      <td>under 18</td>\n",
       "      <td>subscribed</td>\n",
       "      <td>5.12</td>\n",
       "    </tr>\n",
       "    <tr>\n",
       "      <th>2</th>\n",
       "      <td>12305</td>\n",
       "      <td>35 and over</td>\n",
       "      <td>not_subscribed</td>\n",
       "      <td>4.25</td>\n",
       "    </tr>\n",
       "    <tr>\n",
       "      <th>3</th>\n",
       "      <td>17546</td>\n",
       "      <td>18-34</td>\n",
       "      <td>subscribed</td>\n",
       "      <td>8.54</td>\n",
       "    </tr>\n",
       "    <tr>\n",
       "      <th>4</th>\n",
       "      <td>15399</td>\n",
       "      <td>18-34</td>\n",
       "      <td>subscribed</td>\n",
       "      <td>12.12</td>\n",
       "    </tr>\n",
       "  </tbody>\n",
       "</table>\n",
       "</div>"
      ],
      "text/plain": [
       "   user_id    age_group subscription_status  engagement_time\n",
       "0    14451        18-34          subscribed             5.55\n",
       "1    18386     under 18          subscribed             5.12\n",
       "2    12305  35 and over      not_subscribed             4.25\n",
       "3    17546        18-34          subscribed             8.54\n",
       "4    15399        18-34          subscribed            12.12"
      ]
     },
     "execution_count": 6,
     "metadata": {},
     "output_type": "execute_result"
    }
   ],
   "source": [
    "df.head()"
   ]
  },
  {
   "cell_type": "code",
   "execution_count": 8,
   "id": "e3c282f4",
   "metadata": {},
   "outputs": [
    {
     "data": {
      "text/plain": [
       "(1000, 4)"
      ]
     },
     "execution_count": 8,
     "metadata": {},
     "output_type": "execute_result"
    }
   ],
   "source": [
    "df.shape"
   ]
  },
  {
   "cell_type": "markdown",
   "id": "a9fa132d",
   "metadata": {},
   "source": [
    "The dataset contains 1000 rows and 4 columns. "
   ]
  },
  {
   "cell_type": "code",
   "execution_count": 9,
   "id": "ff265223",
   "metadata": {},
   "outputs": [
    {
     "name": "stdout",
     "output_type": "stream",
     "text": [
      "<class 'pandas.core.frame.DataFrame'>\n",
      "RangeIndex: 1000 entries, 0 to 999\n",
      "Data columns (total 4 columns):\n",
      " #   Column               Non-Null Count  Dtype  \n",
      "---  ------               --------------  -----  \n",
      " 0   user_id              1000 non-null   int64  \n",
      " 1   age_group            1000 non-null   object \n",
      " 2   subscription_status  1000 non-null   object \n",
      " 3   engagement_time      1000 non-null   float64\n",
      "dtypes: float64(1), int64(1), object(2)\n",
      "memory usage: 31.4+ KB\n"
     ]
    }
   ],
   "source": [
    "df.info()"
   ]
  },
  {
   "cell_type": "markdown",
   "id": "e502315f",
   "metadata": {},
   "source": [
    "There are 2 categorical columns and two numeric columns in the dataset. "
   ]
  },
  {
   "cell_type": "code",
   "execution_count": 10,
   "id": "16a3fc73",
   "metadata": {},
   "outputs": [
    {
     "data": {
      "text/html": [
       "<div>\n",
       "<style scoped>\n",
       "    .dataframe tbody tr th:only-of-type {\n",
       "        vertical-align: middle;\n",
       "    }\n",
       "\n",
       "    .dataframe tbody tr th {\n",
       "        vertical-align: top;\n",
       "    }\n",
       "\n",
       "    .dataframe thead th {\n",
       "        text-align: right;\n",
       "    }\n",
       "</style>\n",
       "<table border=\"1\" class=\"dataframe\">\n",
       "  <thead>\n",
       "    <tr style=\"text-align: right;\">\n",
       "      <th></th>\n",
       "      <th>user_id</th>\n",
       "      <th>engagement_time</th>\n",
       "    </tr>\n",
       "  </thead>\n",
       "  <tbody>\n",
       "    <tr>\n",
       "      <th>count</th>\n",
       "      <td>1000.000000</td>\n",
       "      <td>1000.000000</td>\n",
       "    </tr>\n",
       "    <tr>\n",
       "      <th>mean</th>\n",
       "      <td>15024.803000</td>\n",
       "      <td>6.180030</td>\n",
       "    </tr>\n",
       "    <tr>\n",
       "      <th>std</th>\n",
       "      <td>2927.044957</td>\n",
       "      <td>2.757166</td>\n",
       "    </tr>\n",
       "    <tr>\n",
       "      <th>min</th>\n",
       "      <td>10000.000000</td>\n",
       "      <td>0.220000</td>\n",
       "    </tr>\n",
       "    <tr>\n",
       "      <th>25%</th>\n",
       "      <td>12452.500000</td>\n",
       "      <td>3.917500</td>\n",
       "    </tr>\n",
       "    <tr>\n",
       "      <th>50%</th>\n",
       "      <td>15184.000000</td>\n",
       "      <td>6.000000</td>\n",
       "    </tr>\n",
       "    <tr>\n",
       "      <th>75%</th>\n",
       "      <td>17481.250000</td>\n",
       "      <td>8.110000</td>\n",
       "    </tr>\n",
       "    <tr>\n",
       "      <th>max</th>\n",
       "      <td>19976.000000</td>\n",
       "      <td>16.980000</td>\n",
       "    </tr>\n",
       "  </tbody>\n",
       "</table>\n",
       "</div>"
      ],
      "text/plain": [
       "            user_id  engagement_time\n",
       "count   1000.000000      1000.000000\n",
       "mean   15024.803000         6.180030\n",
       "std     2927.044957         2.757166\n",
       "min    10000.000000         0.220000\n",
       "25%    12452.500000         3.917500\n",
       "50%    15184.000000         6.000000\n",
       "75%    17481.250000         8.110000\n",
       "max    19976.000000        16.980000"
      ]
     },
     "execution_count": 10,
     "metadata": {},
     "output_type": "execute_result"
    }
   ],
   "source": [
    "df.describe()"
   ]
  },
  {
   "cell_type": "markdown",
   "id": "0c33240c",
   "metadata": {},
   "source": [
    "* The user_id is a column consisting of unique user-ids.\n",
    "* The mean engagement-time is 6.18 hrs, while the median engagement-time is 6 hrs. \n"
   ]
  },
  {
   "cell_type": "markdown",
   "id": "f9489f8f",
   "metadata": {},
   "source": [
    "# One Sample t-test"
   ]
  },
  {
   "cell_type": "markdown",
   "id": "60d85a74",
   "metadata": {},
   "source": [
    "Is the average app engagement time of AZ Tunes significantly greater than the market average (6\n",
    "hours)? "
   ]
  },
  {
   "cell_type": "code",
   "execution_count": 12,
   "id": "3860a7f7",
   "metadata": {},
   "outputs": [
    {
     "name": "stdout",
     "output_type": "stream",
     "text": [
      "Sample mean: 6.18\n"
     ]
    },
    {
     "name": "stderr",
     "output_type": "stream",
     "text": [
      "C:\\Users\\basha\\anaconda3\\Lib\\site-packages\\seaborn\\_oldcore.py:1119: FutureWarning: use_inf_as_na option is deprecated and will be removed in a future version. Convert inf values to NaN before operating instead.\n",
      "  with pd.option_context('mode.use_inf_as_na', True):\n"
     ]
    },
    {
     "data": {
      "image/png": "[encoded data removed]",
      "text/plain": [
       "<Figure size 500x500 with 1 Axes>"
      ]
     },
     "metadata": {},
     "output_type": "display_data"
    }
   ],
   "source": [
    "print('Sample mean:', np.round(df.engagement_time.mean(),2)) \n",
    "sns.displot(df.engagement_time)\n",
    "plt.show() \n"
   ]
  },
  {
   "cell_type": "markdown",
   "id": "4859d5db",
   "metadata": {},
   "source": [
    "The distribution looks a little skewed to the right. \n"
   ]
  },
  {
   "cell_type": "markdown",
   "id": "3427537f",
   "metadata": {},
   "source": [
    "### Step 1: Define null and alternative hypotheses\n",
    "Let's frame the null and alternative hypothesis based on the above claim can be formulated as: "
   ]
  },
  {
   "attachments": {
    "image.png": {
     "image/png": "[encoded data removed]"
    }
   },
   "cell_type": "markdown",
   "id": "9f57a47d",
   "metadata": {},
   "source": [
    "![image.png](attachment:image.png)"
   ]
  },
  {
   "cell_type": "markdown",
   "id": "78824728",
   "metadata": {},
   "source": [
    "### Step 2: Select Appropriate test \n",
    "* This is a case of a one-tailed test for the significance of a single mean. As the population standard\n",
    "deviation is unknown, a one-sample t-test will be appropriate to test the formulated hypotheses.\n",
    "* In a one sample t-test, we compare a sample mean with a hypothesized population mean to check\n",
    "if the sample mean differs significantly from the population mean.\n",
    "We are provided that the sample is randomly selected and we assume that it has come from a\n",
    "normally distributed population. \n"
   ]
  },
  {
   "cell_type": "markdown",
   "id": "ae15161a",
   "metadata": {},
   "source": [
    "### Step 3: Decide the significance level\n",
    "Let's set the level of significane (alpha) as 0.05 "
   ]
  },
  {
   "cell_type": "markdown",
   "id": "7a102357",
   "metadata": {},
   "source": [
    "### Step 4: Calculate the p-value\n",
    "* We will use the ttest_1samp() function from the scipy.stats library to perform a onesample t-test.\n",
    "* The ttest_1samp() function takes the sample observations, hypothesized population mean\n",
    "and the direction of the alternative hypothesis as input and returns the test statistic and the pvalue for the test.\n",
    "* The sample observations are the values of app engagement time in the dataset.\n",
    "* The hypotheisized population mean, as provided in the problem statement and defined\n",
    "in the formulated hypotheses is 6 hours\n",
    "* Asitis a one-tailed test towards the right, we will set the argument alternative =\n",
    "'greater’ "
   ]
  },
  {
   "cell_type": "code",
   "execution_count": 16,
   "id": "78808343",
   "metadata": {},
   "outputs": [
    {
     "name": "stdout",
     "output_type": "stream",
     "text": [
      "Test Statistic = 2.0648187232381248\n",
      "p-value = 0.019598877431817586\n"
     ]
    }
   ],
   "source": [
    "hyp_mean = 6\n",
    "t_stat, p_value = stats.ttest_1samp(df['engagement_time'], hyp_mean, alternative='greater')\n",
    "print('Test Statistic =',t_stat)\n",
    "print('p-value =',p_value) "
   ]
  },
  {
   "cell_type": "markdown",
   "id": "043cc86d",
   "metadata": {},
   "source": [
    "* Note: The type of test (one-tailed/two-tailed) has an effect on the p-value. The alternative\n",
    "argument is set to 'greater’ as our alternative hypothesis states that mean app engagement\n",
    "time of AZ Tunes is greater than the market average. \n"
   ]
  },
  {
   "cell_type": "markdown",
   "id": "534ca65b",
   "metadata": {},
   "source": [
    "#### The test statistic follows a t distribution.\n",
    "Let's plot the distribution of the t-test statistic and see where the computed test statistic lies in the\n",
    "plot. "
   ]
  },
  {
   "cell_type": "code",
   "execution_count": 20,
   "id": "5f087deb",
   "metadata": {},
   "outputs": [],
   "source": [
    "# plot the t-stat distribution\n",
    "# import the required function\n",
    "from scipy.stats import t "
   ]
  },
  {
   "cell_type": "markdown",
   "id": "77fb7c1f",
   "metadata": {},
   "source": [
    "* plotting the distribution of t test statistic along with the computed test statistic\n",
    "* We are plotting the distributions here to better visualize the calculations "
   ]
  },
  {
   "cell_type": "code",
   "execution_count": 21,
   "id": "413afcc0",
   "metadata": {},
   "outputs": [
    {
     "data": {
      "image/png": "[encoded data removed]",
      "text/plain": [
       "<Figure size 640x480 with 1 Axes>"
      ]
     },
     "metadata": {},
     "output_type": "display_data"
    }
   ],
   "source": [
    "x = np.linspace(-4, 4, 100) \n",
    "plt.plot(x, t.pdf(x,df=len(df)-1)) \n",
    "plt.axvline(x = t_stat, c = 'r')\n",
    "plt.show() "
   ]
  },
  {
   "cell_type": "markdown",
   "id": "00f48c09",
   "metadata": {},
   "source": [
    "Step 5: Compare the p-value with alpha"
   ]
  },
  {
   "cell_type": "code",
   "execution_count": 24,
   "id": "c8f75454",
   "metadata": {},
   "outputs": [
    {
     "name": "stdout",
     "output_type": "stream",
     "text": [
      "As the p-value 0.019598877431817586 is less than the level of significance, we reject the r\n"
     ]
    }
   ],
   "source": [
    "# print the conclusion based on p-value\n",
    "if p_value < 0.05:\n",
    "    print(f'As the p-value {p_value} is less than the level of significance, we reject the r')\n",
    "else:\n",
    "    print(f'As the p-value {p_value} is greater than the level of significance, we fail to r') "
   ]
  },
  {
   "cell_type": "markdown",
   "id": "e4b8b00a",
   "metadata": {},
   "source": [
    "Step 6: Draw Inference\n",
    "* Since the p-value is less than the 5% significance level, we reject the null hypothesis. Hence, we\n",
    "have enough statistical evidence to say that the mean app engagement time of AZ tunes is greater\n",
    "than the market average (6 hrs). "
   ]
  },
  {
   "cell_type": "markdown",
   "id": "58941caf",
   "metadata": {},
   "source": [
    "# Chi-square Test for Independence "
   ]
  },
  {
   "cell_type": "code",
   "execution_count": 25,
   "id": "44b394f4",
   "metadata": {},
   "outputs": [
    {
     "data": {
      "text/html": [
       "<div>\n",
       "<style scoped>\n",
       "    .dataframe tbody tr th:only-of-type {\n",
       "        vertical-align: middle;\n",
       "    }\n",
       "\n",
       "    .dataframe tbody tr th {\n",
       "        vertical-align: top;\n",
       "    }\n",
       "\n",
       "    .dataframe thead th {\n",
       "        text-align: right;\n",
       "    }\n",
       "</style>\n",
       "<table border=\"1\" class=\"dataframe\">\n",
       "  <thead>\n",
       "    <tr style=\"text-align: right;\">\n",
       "      <th>subscription_status</th>\n",
       "      <th>not_subscribed</th>\n",
       "      <th>subscribed</th>\n",
       "      <th>All</th>\n",
       "    </tr>\n",
       "    <tr>\n",
       "      <th>age_group</th>\n",
       "      <th></th>\n",
       "      <th></th>\n",
       "      <th></th>\n",
       "    </tr>\n",
       "  </thead>\n",
       "  <tbody>\n",
       "    <tr>\n",
       "      <th>18-34</th>\n",
       "      <td>103</td>\n",
       "      <td>262</td>\n",
       "      <td>365</td>\n",
       "    </tr>\n",
       "    <tr>\n",
       "      <th>35 and over</th>\n",
       "      <td>237</td>\n",
       "      <td>171</td>\n",
       "      <td>408</td>\n",
       "    </tr>\n",
       "    <tr>\n",
       "      <th>under 18</th>\n",
       "      <td>107</td>\n",
       "      <td>120</td>\n",
       "      <td>227</td>\n",
       "    </tr>\n",
       "    <tr>\n",
       "      <th>All</th>\n",
       "      <td>447</td>\n",
       "      <td>553</td>\n",
       "      <td>1000</td>\n",
       "    </tr>\n",
       "  </tbody>\n",
       "</table>\n",
       "</div>"
      ],
      "text/plain": [
       "subscription_status  not_subscribed  subscribed   All\n",
       "age_group                                            \n",
       "18-34                           103         262   365\n",
       "35 and over                     237         171   408\n",
       "under 18                        107         120   227\n",
       "All                             447         553  1000"
      ]
     },
     "execution_count": 25,
     "metadata": {},
     "output_type": "execute_result"
    }
   ],
   "source": [
    "# create a contingency table to tabulate the frequencies of the two categorical variables\n",
    "pd.crosstab(df.age_group,df.subscription_status,margins=True) "
   ]
  },
  {
   "cell_type": "markdown",
   "id": "d5f6cc2b",
   "metadata": {},
   "source": [
    "* There are a total of 1000 people in the sample\n",
    "* In the 18-34 age group, 262 out of 365 (or 71.78%) users are subscribed users.\n",
    "* In the 35 and over age group, 171 out of 408 (41.91%) users are subscribed users.\n",
    "* In the under 18 age group, 120 out of 227 (52.86%) users are subscribed users. \n"
   ]
  },
  {
   "cell_type": "code",
   "execution_count": 27,
   "id": "0348f817",
   "metadata": {},
   "outputs": [
    {
     "data": {
      "text/plain": [
       "<Axes: xlabel='age_group'>"
      ]
     },
     "execution_count": 27,
     "metadata": {},
     "output_type": "execute_result"
    },
    {
     "data": {
      "image/png": "[encoded data removed]",
      "text/plain": [
       "<Figure size 640x480 with 1 Axes>"
      ]
     },
     "metadata": {},
     "output_type": "display_data"
    }
   ],
   "source": [
    "    # visual analysis\n",
    "pd.crosstab(df['age_group'], df['subscription_status'], normalize='index').plot(kind='bar', stacked=True)\n"
   ]
  },
  {
   "cell_type": "markdown",
   "id": "f1f172d3",
   "metadata": {},
   "source": [
    "The proportion of subscribed users is higher in the age group 18-34 than the other two age\n",
    "groups.\n",
    "* Based on the sample data, we can infer that the proportion of subscribers is higher for one\n",
    "age group, but is this difference significant enough to conclude that subscription status is\n",
    "dependent on the age group? \n"
   ]
  },
  {
   "cell_type": "code",
   "execution_count": 28,
   "id": "3dca3cb7",
   "metadata": {},
   "outputs": [
    {
     "data": {
      "text/html": [
       "<div>\n",
       "<style scoped>\n",
       "    .dataframe tbody tr th:only-of-type {\n",
       "        vertical-align: middle;\n",
       "    }\n",
       "\n",
       "    .dataframe tbody tr th {\n",
       "        vertical-align: top;\n",
       "    }\n",
       "\n",
       "    .dataframe thead th {\n",
       "        text-align: right;\n",
       "    }\n",
       "</style>\n",
       "<table border=\"1\" class=\"dataframe\">\n",
       "  <thead>\n",
       "    <tr style=\"text-align: right;\">\n",
       "      <th>subscription_status</th>\n",
       "      <th>not_subscribed</th>\n",
       "      <th>subscribed</th>\n",
       "    </tr>\n",
       "    <tr>\n",
       "      <th>age_group</th>\n",
       "      <th></th>\n",
       "      <th></th>\n",
       "    </tr>\n",
       "  </thead>\n",
       "  <tbody>\n",
       "    <tr>\n",
       "      <th>18-34</th>\n",
       "      <td>103</td>\n",
       "      <td>262</td>\n",
       "    </tr>\n",
       "    <tr>\n",
       "      <th>35 and over</th>\n",
       "      <td>237</td>\n",
       "      <td>171</td>\n",
       "    </tr>\n",
       "    <tr>\n",
       "      <th>under 18</th>\n",
       "      <td>107</td>\n",
       "      <td>120</td>\n",
       "    </tr>\n",
       "  </tbody>\n",
       "</table>\n",
       "</div>"
      ],
      "text/plain": [
       "subscription_status  not_subscribed  subscribed\n",
       "age_group                                      \n",
       "18-34                           103         262\n",
       "35 and over                     237         171\n",
       "under 18                        107         120"
      ]
     },
     "execution_count": 28,
     "metadata": {},
     "output_type": "execute_result"
    }
   ],
   "source": [
    "# prepare a contingency table to perform the test\n",
    "contingency_table = pd.crosstab(df.age_group, df.subscription_status)\n",
    "contingency_table \n"
   ]
  },
  {
   "cell_type": "markdown",
   "id": "f85afd8a",
   "metadata": {},
   "source": [
    "### Calculate the p-value\n",
    "We will use the chi2_contingency function from the scipy stats library to perform the hypothesis\n",
    "test. It takes the contingency table as an input and returns the test statistic, p-value, degrees of\n",
    "freedom, and the expected frequencies as the output. "
   ]
  },
  {
   "cell_type": "code",
   "execution_count": 29,
   "id": "26648591",
   "metadata": {},
   "outputs": [
    {
     "name": "stdout",
     "output_type": "stream",
     "text": [
      "Test Statistic = 70.23716243606756\n",
      "p-value = 5.600076564450542e-16\n",
      "Degrees of freedom = 2\n",
      "Expected frequencies \n",
      " [[163.155 201.845]\n",
      " [182.376 225.624]\n",
      " [101.469 125.531]]\n"
     ]
    }
   ],
   "source": [
    "# import the required test function\n",
    "from scipy.stats import chi2_contingency\n",
    "# calculate the test results\n",
    "chi, p_value, dof, expected = chi2_contingency(contingency_table)\n",
    "print(\"Test Statistic =\",chi)\n",
    "print(\"p-value =\",p_value)\n",
    "print(\"Degrees of freedom =\",dof)\n",
    "print(\"Expected frequencies \\n\", expected) \n"
   ]
  },
  {
   "cell_type": "markdown",
   "id": "e3cc13d7",
   "metadata": {},
   "source": [
    "Compare the p-value with alpha"
   ]
  },
  {
   "cell_type": "code",
   "execution_count": 31,
   "id": "ab97e141",
   "metadata": {},
   "outputs": [
    {
     "name": "stdout",
     "output_type": "stream",
     "text": [
      "As the p-value 5.600076564450542e-16 is less than the level of significance, we reject the r\n"
     ]
    }
   ],
   "source": [
    "# print the conclusion based on p-value\n",
    "if p_value < 0.05:\n",
    "    print(f'As the p-value {p_value} is less than the level of significance, we reject the r')\n",
    "else:\n",
    "    print(f'As the p-value {p_value} is greater than the level of significance, we fail to r') "
   ]
  },
  {
   "cell_type": "markdown",
   "id": "7323b6a1",
   "metadata": {},
   "source": [
    "Since the p-value is less than the 5% significance level, we reject the null hypothesis. Hence, we\n",
    "have enough statistical evidence to say that age group and subscription_status are dependent on\n",
    "each other. "
   ]
  },
  {
   "cell_type": "markdown",
   "id": "9f3663ba",
   "metadata": {},
   "source": [
    "### Actionable Insights and Conclusions\n",
    "* From the sample data, we observed that\n",
    "+ 50% of the people spend at least 6 hours on an average per week on the AZ Tunes App\n",
    "+ The average weekly app engagement time of AZ Tunes was 6.18 hours\n",
    "* There is enough statistical evidence (p-value of 0.0196 at 5% level of significance) to conclude\n",
    "that the average app engagement time of AZ Tunes is greater than the market average\n",
    "* The difference in proportions of subscribers across the 3 age groups is significant enough (pvalue of 5.60 x 10%(-16) at 5% level of significance) to conclude that the age group 18-34 is\n",
    "most likely to subscribe\n",
    "+ AZ Tunes can focus more on designing the special offers for this age group to be used\n",
    "in the marketing campaign "
   ]
  },
  {
   "cell_type": "code",
   "execution_count": null,
   "id": "d2a5ad39",
   "metadata": {},
   "outputs": [],
   "source": []
  }
 ],
 "metadata": {
  "kernelspec": {
   "display_name": "Python 3 (ipykernel)",
   "language": "python",
   "name": "python3"
  },
  "language_info": {
   "codemirror_mode": {
    "name": "ipython",
    "version": 3
   },
   "file_extension": ".py",
   "mimetype": "text/x-python",
   "name": "python",
   "nbconvert_exporter": "python",
   "pygments_lexer": "ipython3",
   "version": "3.11.7"
  }
 },
 "nbformat": 4,
 "nbformat_minor": 5
}
